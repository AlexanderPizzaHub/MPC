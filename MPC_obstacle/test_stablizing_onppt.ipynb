{
 "cells": [
  {
   "cell_type": "code",
   "execution_count": 1,
   "metadata": {},
   "outputs": [
    {
     "data": {
      "text/plain": [
       "'\\nThe autonomous driving example on ppt from Bemporad\\n'"
      ]
     },
     "execution_count": 1,
     "metadata": {},
     "output_type": "execute_result"
    }
   ],
   "source": [
    "'''\n",
    "The autonomous driving example on ppt from Bemporad\n",
    "'''"
   ]
  },
  {
   "cell_type": "code",
   "execution_count": 2,
   "metadata": {},
   "outputs": [],
   "source": [
    "import numpy as np\n",
    "from scipy import optimize\n",
    "from matplotlib import pyplot as plt\n",
    "from mpl_toolkits.mplot3d.axes3d import Axes3D\n",
    "import controller"
   ]
  },
  {
   "cell_type": "code",
   "execution_count": 3,
   "metadata": {},
   "outputs": [],
   "source": [
    "ctrl = controller.controller()"
   ]
  },
  {
   "cell_type": "code",
   "execution_count": 4,
   "metadata": {},
   "outputs": [],
   "source": [
    "CL = 4.5\n",
    "dt = 0.05\n",
    "ctrl.dt = dt\n",
    "''' \n",
    "x:[x,y,theta]\n",
    "u:[v,delta]\n",
    "'''\n",
    "def f(x,u):\n",
    "    return np.array([\n",
    "        [(u[0]*np.cos(x[2]+u[1]))[0]],\n",
    "        [(np.sin(x[2]+u[1])*u[0])[0]],\n",
    "        [((np.sin(u[1])/CL)*u[0])[0]]\n",
    "    ])\n",
    "\n",
    "def matrix_iterator(x0,u0):\n",
    "    A = np.array([\n",
    "        [0,    0,  (-np.sin(x0[2]+u0[1])*u0[0])[0]],\n",
    "        [0,    0,  (np.cos(x0[2]+u0[1])*u0[0])[0]],\n",
    "        [0,    0,  0]\n",
    "    ]\n",
    "    )\n",
    "\n",
    "    B = np.array(\n",
    "        [\n",
    "        [(np.cos(x0[2]+u0[1]))[0],(-np.sin(x0[2]+u0[1])*u0[0])[0]],\n",
    "        [(np.sin(x0[2]+u0[1]))[0],(np.cos(x0[2]+u0[1])*u0[0])[0]],\n",
    "        [(np.sin(u0[1])/CL)[0], (np.cos(u0[1])*u0[0]/CL)[0]]\n",
    "        ]\n",
    "    )\n",
    "\n",
    "    '''f0 = np.array([\n",
    "        [(np.cos(x0[2])*x0[3])[0]],\n",
    "        [(np.sin(x0[2])*x0[3])[0]],\n",
    "        [((np.tan(u0[1])/CL)*x0[3])[0]],\n",
    "        [(0.5*u0[0])[0]]\n",
    "    ])'''\n",
    "    f0 = f(x0,u0)\n",
    "\n",
    "    return A,B,f0\n",
    "\n",
    "x0 = np.array(\n",
    "    [\n",
    "        [0],\n",
    "        [10.],\n",
    "        [0]\n",
    "    ]\n",
    ")\n",
    "\n",
    "xd = np.array(\n",
    "    [\n",
    "        [0],\n",
    "        [0.],\n",
    "        [0]\n",
    "    ]\n",
    ")\n",
    "\n",
    "u0 = np.array(\n",
    "    [\n",
    "        [25],\n",
    "        [0]\n",
    "    ]\n",
    ")\n"
   ]
  },
  {
   "cell_type": "code",
   "execution_count": 5,
   "metadata": {},
   "outputs": [],
   "source": [
    "ctrl.pred_horizon = 30\n",
    "ctrl.control_horizon = 4 \n",
    "\n",
    "'''\n",
    "Because in this example cost contains increament, we create R_tilde mannually.\n",
    "Finally J = \\sum (x terms) + u^T R_tilde u + c^T u + d\n",
    "'''\n",
    "R_sub = np.array([\n",
    "    [1,0,-1,0],[0,1,0,-1],[-1,0.,1,0],[0,-1,0,1]\n",
    "])\n",
    "R_tilde = np.zeros([2*ctrl.pred_horizon,2*ctrl.pred_horizon])\n",
    "for i in range(ctrl.pred_horizon-1):\n",
    "    R_tilde[2*i:2*i+4,2*i:2*i+4] += R_sub\n",
    "R_tilde[0,0] += 1. \n",
    "R_tilde[1,1] += 1.\n",
    "\n",
    "R_tilde *= 1./(ctrl.dt)**2\n",
    "\n",
    "def c_param(x0,u0):\n",
    "    c = np.zeros([2*ctrl.pred_horizon,1])\n",
    "    #c[0]= -2*u0[0]\n",
    "    #c[1] = -2*u0[1]\n",
    "    c[0] = -u0[0]\n",
    "    c[1] = -u0[1]\n",
    "    return c.reshape(-1)/(ctrl.dt**2)\n",
    "\n",
    "Q = np.array(\n",
    "    [\n",
    "        [0.,0,0],\n",
    "        [0,1.,0],\n",
    "        [0,0,1.]\n",
    "    ]\n",
    ")\n",
    "F = Q \n",
    "\n",
    "ctrl.Q = Q \n",
    "ctrl.F = F "
   ]
  },
  {
   "cell_type": "code",
   "execution_count": 6,
   "metadata": {},
   "outputs": [],
   "source": [
    "'''\n",
    "Construct the constraints \n",
    "'''\n",
    "A1 = np.zeros([ctrl.pred_horizon,2*ctrl.pred_horizon])\n",
    "for i in range(ctrl.pred_horizon):\n",
    "    A1[i,2*i] = 1.\n",
    "    #A1[i,2*i+1] = 1.\n",
    "b1 = np.zeros([ctrl.pred_horizon,1]) - 20. \n",
    "\n",
    "A2 = np.zeros([ctrl.pred_horizon,2*ctrl.pred_horizon])\n",
    "for i in range(ctrl.pred_horizon):\n",
    "    A2[i,2*i] = -1.\n",
    "    #A2[i,2*i+1] = -1.\n",
    "b2 = np.zeros([ctrl.pred_horizon,1]) -70.\n",
    "\n",
    "A3 = np.zeros([ctrl.pred_horizon,2*ctrl.pred_horizon])\n",
    "for i in range(ctrl.pred_horizon):\n",
    "    A3[i,2*i+1] = 1.\n",
    "b3 = np.zeros([ctrl.pred_horizon,1]) - np.pi/4 \n",
    "\n",
    "A4 = np.zeros([ctrl.pred_horizon,2*ctrl.pred_horizon])\n",
    "for i in range(ctrl.pred_horizon):\n",
    "    A4[i,2*i+1] = -1.\n",
    "b4 = np.zeros([ctrl.pred_horizon,1]) - np.pi/4\n",
    "\n",
    "A5 = np.zeros([ctrl.pred_horizon,2*ctrl.pred_horizon])\n",
    "A5[0,1] = 1. \n",
    "b5 = [-np.pi/36*ctrl.dt + u0[1]]\n",
    "\n",
    "A6 = np.zeros([ctrl.pred_horizon,2*ctrl.pred_horizon])\n",
    "A6[0,1] = -1. \n",
    "b6 = [-np.pi/36*ctrl.dt - u0[1]]\n",
    "\n",
    "A7 = np.zeros([ctrl.pred_horizon,2*ctrl.pred_horizon])\n",
    "for i in range(ctrl.pred_horizon-2):\n",
    "    A7[i,2*i+3] = -1/ctrl.dt  \n",
    "    A7[i,2*i+5] = 1/ctrl.dt \n",
    "\n",
    "b7 = np.zeros([ctrl.pred_horizon-1,1]) - np.pi/36\n",
    "\n",
    "A8 = np.zeros([ctrl.pred_horizon,2*ctrl.pred_horizon])\n",
    "for i in range(ctrl.pred_horizon-2):\n",
    "    A8[i,2*i+3] = 1/ctrl.dt  \n",
    "    A8[i,2*i+5] = -1/ctrl.dt\n",
    "\n",
    "b8 = np.zeros([ctrl.pred_horizon-1,1]) - np.pi/36"
   ]
  },
  {
   "cell_type": "code",
   "execution_count": 7,
   "metadata": {},
   "outputs": [],
   "source": [
    "xlist = [x0]\n",
    "ulist = [u0]\n",
    "ctrl.setup_model(f)\n",
    "for i in range(300):\n",
    "    A,B,f0 = matrix_iterator(x0,u0)\n",
    "    ctrl.update_dynamics(A,x0,B,u0,f0)\n",
    "\n",
    "    #x1 = ctrl.apply_control(x0,u0)    \n",
    "    x0 = ctrl.apply_control(x0,u0)   \n",
    "    ctrl.discretize_by_R(dt,R_tilde)\n",
    "    ctrl.setup_qp_linear(x0,u0,xd)  #x1 is not controllable, since u0 must be applied. Here u0 is dummy.\n",
    "\n",
    "    c = c_param(x0,u0)\n",
    "    u = ctrl.solve_qp(extra = c)\n",
    "    u0 = u[0:2].reshape(-1,1)\n",
    "    #x0 = ctrl.apply_control(x0,u0)\n",
    "    xlist.append(x0)\n",
    "    ulist.append(u0)\n",
    "    #print('stepped')\n"
   ]
  },
  {
   "cell_type": "code",
   "execution_count": 8,
   "metadata": {},
   "outputs": [],
   "source": [
    "import matplotlib.pyplot as plt"
   ]
  },
  {
   "cell_type": "code",
   "execution_count": 9,
   "metadata": {},
   "outputs": [
    {
     "name": "stdout",
     "output_type": "stream",
     "text": [
      "(301, 3)\n"
     ]
    }
   ],
   "source": [
    "xm = np.array(xlist).squeeze(-1)\n",
    "print(xm.shape)"
   ]
  },
  {
   "cell_type": "code",
   "execution_count": 10,
   "metadata": {},
   "outputs": [
    {
     "data": {
      "text/plain": [
       "[<matplotlib.lines.Line2D at 0x122d1e150>]"
      ]
     },
     "execution_count": 10,
     "metadata": {},
     "output_type": "execute_result"
    },
    {
     "data": {
      "image/png": "[encoded data removed]",
      "text/plain": [
       "<Figure size 640x480 with 1 Axes>"
      ]
     },
     "metadata": {},
     "output_type": "display_data"
    }
   ],
   "source": [
    "plt.plot(xm[:,1])"
   ]
  },
  {
   "cell_type": "code",
   "execution_count": 11,
   "metadata": {},
   "outputs": [],
   "source": [
    "u_tilde = np.array(ulist).reshape(-1,2)"
   ]
  },
  {
   "cell_type": "code",
   "execution_count": 13,
   "metadata": {},
   "outputs": [
    {
     "data": {
      "text/plain": [
       "[<matplotlib.lines.Line2D at 0x126ad79d0>]"
      ]
     },
     "execution_count": 13,
     "metadata": {},
     "output_type": "execute_result"
    },
    {
     "data": {
      "image/png": "[encoded data removed]",
      "text/plain": [
       "<Figure size 640x480 with 1 Axes>"
      ]
     },
     "metadata": {},
     "output_type": "display_data"
    }
   ],
   "source": [
    "plt.plot(u_tilde[:,0])"
   ]
  },
  {
   "cell_type": "code",
   "execution_count": null,
   "metadata": {},
   "outputs": [],
   "source": []
  }
 ],
 "metadata": {
  "kernelspec": {
   "display_name": "torch",
   "language": "python",
   "name": "python3"
  },
  "language_info": {
   "codemirror_mode": {
    "name": "ipython",
    "version": 3
   },
   "file_extension": ".py",
   "mimetype": "text/x-python",
   "name": "python",
   "nbconvert_exporter": "python",
   "pygments_lexer": "ipython3",
   "version": "3.11.3"
  },
  "orig_nbformat": 4
 },
 "nbformat": 4,
 "nbformat_minor": 2
}
