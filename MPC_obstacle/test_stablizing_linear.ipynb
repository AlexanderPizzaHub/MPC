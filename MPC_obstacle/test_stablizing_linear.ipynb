{
 "cells": [
  {
   "cell_type": "code",
   "execution_count": 1,
   "metadata": {},
   "outputs": [],
   "source": [
    "import numpy as np\n",
    "from scipy import optimize\n",
    "from matplotlib import pyplot as plt\n",
    "from mpl_toolkits.mplot3d.axes3d import Axes3D\n",
    "import controller "
   ]
  },
  {
   "cell_type": "code",
   "execution_count": 2,
   "metadata": {},
   "outputs": [],
   "source": [
    "ctrl = controller.controller()"
   ]
  },
  {
   "cell_type": "code",
   "execution_count": 3,
   "metadata": {},
   "outputs": [],
   "source": [
    "Q = np.array(\n",
    "    [\n",
    "        [1., 0.],\n",
    "        [0., 1.]\n",
    "    ]\n",
    ")\n",
    "F = np.array([\n",
    "    [1.,0.],\n",
    "    [0.,1.]\n",
    "])\n",
    "R = 0.1\n",
    "\n",
    "ctrl.set_cost(Q,R,F)"
   ]
  },
  {
   "cell_type": "code",
   "execution_count": 4,
   "metadata": {},
   "outputs": [],
   "source": [
    "CL = 2\n",
    "\n",
    "A = np.array(\n",
    "    [\n",
    "        [0. , 0.1],\n",
    "        [0. , 1.]\n",
    "    ]\n",
    "    )\n",
    "B = np.array(\n",
    "    [\n",
    "        [0.],\n",
    "        [0.5]\n",
    "    ]\n",
    ")\n",
    "\n",
    "def f(x0,u0):\n",
    "    return A @ x0 + B @ u0\n",
    "\n",
    "def matrix_iterator(x0,u0):\n",
    "    A = np.array(\n",
    "    [\n",
    "        [0. , 0.1],\n",
    "        [0. , 1.]\n",
    "    ]\n",
    "    )\n",
    "    B = np.array(\n",
    "        [\n",
    "            [0.],\n",
    "            [0.5]\n",
    "        ]\n",
    "    )\n",
    "\n",
    "    f0 = f(x0,u0)\n",
    "\n",
    "    return A,B,f0\n",
    "\n",
    "x0 = np.array([[20.,-20.]]).reshape(-1,1)\n",
    "\n",
    "xd = np.array(\n",
    "    [\n",
    "        [0],\n",
    "        [0.]\n",
    "    ]\n",
    ")\n",
    "\n",
    "u0 = np.array(\n",
    "    [\n",
    "        [0]\n",
    "    ]\n",
    ")\n",
    "\n",
    "ctrl.f = f"
   ]
  },
  {
   "cell_type": "code",
   "execution_count": 5,
   "metadata": {},
   "outputs": [],
   "source": [
    "ctrl.pred_horizon = 20\n",
    "ctrl.control_horizon = 3\n",
    "xlist = [x0]\n",
    "ulist = [u0]\n",
    "for i in range(2000):\n",
    "    A,B,f0 = matrix_iterator(x0,u0)\n",
    "    ctrl.update_dynamics(A,x0,B,u0,f0)\n",
    "    ctrl.discretize(0.1)\n",
    "    x0 = ctrl.apply_control(x0,u0)\n",
    "    ctrl.setup_qp_linear(x0,u0,xd)\n",
    "    u = ctrl.solve_qp()\n",
    "    u0 = u[0:1].reshape(-1,1)\n",
    "    for j in range(ctrl.control_horizon-1):\n",
    "        ulist.append(u0)\n",
    "        x0 = ctrl.apply_control(x0,u0)\n",
    "        xlist.append(x0)\n",
    "        u0 = u[j+1:j+2].reshape(-1,1)\n",
    "    ulist.append(u0)\n",
    "    \n",
    "    #print('stepped')\n"
   ]
  },
  {
   "cell_type": "code",
   "execution_count": 6,
   "metadata": {},
   "outputs": [
    {
     "data": {
      "text/plain": [
       "\"ctrl.pred_horizon = 20\\nctrl.control_horizon = 3\\nxlist = [x0]\\nulist = [u0]\\nfor i in range(200):\\n    A,B,f0 = matrix_iterator(x0,u0)\\n    ctrl.update_dynamics(A,x0,B,u0,f0)\\n    ctrl.discretize(0.1)\\n    ctrl.setup_qp_linear(x0,u0,xd)\\n    u = ctrl.solve_qp()\\n    for j in range(ctrl.control_horizon):\\n        u0 = u[j:j+1].reshape(-1,1)\\n        x0 = ctrl.apply_control(x0,u0)\\n        xlist.append(x0)\\n        ulist.append(u0)\\n    #print('stepped')\""
      ]
     },
     "execution_count": 6,
     "metadata": {},
     "output_type": "execute_result"
    }
   ],
   "source": [
    "'''ctrl.pred_horizon = 20\n",
    "ctrl.control_horizon = 3\n",
    "xlist = [x0]\n",
    "ulist = [u0]\n",
    "for i in range(200):\n",
    "    A,B,f0 = matrix_iterator(x0,u0)\n",
    "    ctrl.update_dynamics(A,x0,B,u0,f0)\n",
    "    ctrl.discretize(0.1)\n",
    "    ctrl.setup_qp_linear(x0,u0,xd)\n",
    "    u = ctrl.solve_qp()\n",
    "    for j in range(ctrl.control_horizon):\n",
    "        u0 = u[j:j+1].reshape(-1,1)\n",
    "        x0 = ctrl.apply_control(x0,u0)\n",
    "        xlist.append(x0)\n",
    "        ulist.append(u0)\n",
    "    #print('stepped')'''"
   ]
  },
  {
   "cell_type": "code",
   "execution_count": 7,
   "metadata": {},
   "outputs": [],
   "source": [
    "import matplotlib.pyplot as plt"
   ]
  },
  {
   "cell_type": "code",
   "execution_count": 8,
   "metadata": {},
   "outputs": [
    {
     "name": "stdout",
     "output_type": "stream",
     "text": [
      "(4001, 2)\n"
     ]
    }
   ],
   "source": [
    "xm = np.array(xlist).squeeze(-1)\n",
    "print(xm.shape)"
   ]
  },
  {
   "cell_type": "code",
   "execution_count": 9,
   "metadata": {},
   "outputs": [
    {
     "data": {
      "image/png": "[encoded data removed]",
      "text/plain": [
       "<Figure size 640x480 with 1 Axes>"
      ]
     },
     "metadata": {},
     "output_type": "display_data"
    }
   ],
   "source": [
    "plt.plot(xm[:,0])\n",
    "plt.plot(xm[:,1])\n",
    "plt.savefig('test2.png')"
   ]
  },
  {
   "cell_type": "code",
   "execution_count": 10,
   "metadata": {},
   "outputs": [],
   "source": [
    "u_tilde = u.reshape(-1,2)"
   ]
  },
  {
   "cell_type": "code",
   "execution_count": null,
   "metadata": {},
   "outputs": [],
   "source": []
  },
  {
   "cell_type": "code",
   "execution_count": 11,
   "metadata": {},
   "outputs": [
    {
     "data": {
      "text/plain": [
       "[<matplotlib.lines.Line2D at 0x122920fd0>]"
      ]
     },
     "execution_count": 11,
     "metadata": {},
     "output_type": "execute_result"
    },
    {
     "data": {
      "image/png": "[encoded data removed]",
      "text/plain": [
       "<Figure size 640x480 with 1 Axes>"
      ]
     },
     "metadata": {},
     "output_type": "display_data"
    }
   ],
   "source": [
    "plt.plot(u_tilde[:,0])"
   ]
  },
  {
   "cell_type": "code",
   "execution_count": 12,
   "metadata": {},
   "outputs": [
    {
     "data": {
      "text/plain": [
       "0.011264819518776434"
      ]
     },
     "execution_count": 12,
     "metadata": {},
     "output_type": "execute_result"
    }
   ],
   "source": [
    "u_tilde[6,0]"
   ]
  },
  {
   "cell_type": "code",
   "execution_count": null,
   "metadata": {},
   "outputs": [],
   "source": []
  }
 ],
 "metadata": {
  "kernelspec": {
   "display_name": "torch",
   "language": "python",
   "name": "python3"
  },
  "language_info": {
   "codemirror_mode": {
    "name": "ipython",
    "version": 3
   },
   "file_extension": ".py",
   "mimetype": "text/x-python",
   "name": "python",
   "nbconvert_exporter": "python",
   "pygments_lexer": "ipython3",
   "version": "3.11.3"
  },
  "orig_nbformat": 4
 },
 "nbformat": 4,
 "nbformat_minor": 2
}
